{
 "cells": [
  {
   "cell_type": "code",
   "execution_count": null,
   "id": "92a52a3e",
   "metadata": {},
   "outputs": [],
   "source": [
    "import numpy as np\n",
    "import matplotlib.pyplot as plt"
   ]
  },
  {
   "cell_type": "code",
   "execution_count": null,
   "id": "08f1546f",
   "metadata": {},
   "outputs": [],
   "source": [
    "def function(x):\n",
    "    return x**2+3-2*x\n",
    "a=3\n",
    "b=5\n",
    "print(a+b-2)\n",
    "xs=np.arange(-5, 5, 2)\n",
    "ys=function(xs)\n",
    "plt.plot(xs, ys)\n"
   ]
  },
  {
   "cell_type": "code",
   "execution_count": null,
   "id": "c28090f2",
   "metadata": {},
   "outputs": [],
   "source": [
    "def derivitive(func, x):\n",
    "    h=0.00001\n",
    "    return (func(x+h)-func(x))/h\n"
   ]
  },
  {
   "cell_type": "code",
   "execution_count": 5,
   "id": "feb13d3f",
   "metadata": {},
   "outputs": [
    {
     "name": "stdout",
     "output_type": "stream",
     "text": [
      "2.00001000001393\n"
     ]
    }
   ],
   "source": [
    "def f(x:int):\n",
    "    return x**2-2*x+1\n",
    "\n",
    "print(derivitive(f, 2))\n"
   ]
  },
  {
   "cell_type": "code",
   "execution_count": null,
   "id": "200bdff5",
   "metadata": {},
   "outputs": [],
   "source": []
  }
 ],
 "metadata": {
  "kernelspec": {
   "display_name": "base",
   "language": "python",
   "name": "python3"
  },
  "language_info": {
   "codemirror_mode": {
    "name": "ipython",
    "version": 3
   },
   "file_extension": ".py",
   "mimetype": "text/x-python",
   "name": "python",
   "nbconvert_exporter": "python",
   "pygments_lexer": "ipython3",
   "version": "3.12.2"
  }
 },
 "nbformat": 4,
 "nbformat_minor": 5
}
